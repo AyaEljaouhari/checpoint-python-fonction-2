{
  "nbformat": 4,
  "nbformat_minor": 0,
  "metadata": {
    "colab": {
      "provenance": []
    },
    "kernelspec": {
      "name": "python3",
      "display_name": "Python 3"
    },
    "language_info": {
      "name": "python"
    }
  },
  "cells": [
    {
      "cell_type": "code",
      "execution_count": 1,
      "metadata": {
        "colab": {
          "base_uri": "https://localhost:8080/"
        },
        "id": "gtplBzVVW8xQ",
        "outputId": "b77c1c9d-b91c-4baf-c5ff-e47dd86eb39d"
      },
      "outputs": [
        {
          "output_type": "stream",
          "name": "stdout",
          "text": [
            "35\n"
          ]
        }
      ],
      "source": [
        "def maxtwo(a,b):\n",
        "  if a>b:\n",
        "    return a\n",
        "  return b\n",
        "def maxthree(a,b,c):\n",
        "  return maxtwo(a,maxtwo(b,c))\n",
        "print(maxthree(20,35,19))"
      ]
    },
    {
      "cell_type": "code",
      "source": [],
      "metadata": {
        "id": "bflISMxlaQTa"
      },
      "execution_count": null,
      "outputs": []
    }
  ]
}