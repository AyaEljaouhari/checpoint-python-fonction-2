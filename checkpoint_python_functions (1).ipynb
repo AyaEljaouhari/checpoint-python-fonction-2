{
  "nbformat": 4,
  "nbformat_minor": 0,
  "metadata": {
    "colab": {
      "provenance": []
    },
    "kernelspec": {
      "name": "python3",
      "display_name": "Python 3"
    },
    "language_info": {
      "name": "python"
    }
  },
  "cells": [
    {
      "cell_type": "code",
      "source": [
        "\"\"\"Write a Python function to find the largest (max) of three numbers.\n",
        "\n",
        "For example, the max of these three numbers (20, 35, 19) is 35.\"\"\""
      ],
      "metadata": {
        "id": "Bgcv4nltC6TY"
      },
      "execution_count": null,
      "outputs": []
    },
    {
      "cell_type": "code",
      "execution_count": null,
      "metadata": {
        "colab": {
          "base_uri": "https://localhost:8080/"
        },
        "id": "gtplBzVVW8xQ",
        "outputId": "3c43e165-18ac-4d21-c03a-8ec50149e505"
      },
      "outputs": [
        {
          "output_type": "stream",
          "name": "stdout",
          "text": [
            "35\n"
          ]
        }
      ],
      "source": [
        "def maxtwo(a,b):\n",
        "  if a>b:\n",
        "    return a\n",
        "  return b\n",
        "def maxthree(a,b,c):\n",
        "  return maxtwo(a,maxtwo(b,c))\n",
        "print(maxthree(20,35,19))"
      ]
    },
    {
      "cell_type": "code",
      "source": [
        "\"\"\"Write a function calculation() so it can accept two variables and calculate the addition and subtraction of them. It must return both addition and subtraction in a single return call.\n",
        "\n",
        "For example:\n",
        "\n",
        "calculation(40, 10) should produce 50, 30\"\"\""
      ],
      "metadata": {
        "id": "E50WiB3dC5LF"
      },
      "execution_count": null,
      "outputs": []
    },
    {
      "cell_type": "code",
      "source": [
        "num1=int(input(\"First value: \"))\n",
        "num2=int(input(\"Second value: \"))\n",
        "\n",
        "print((num1+num2,num1-num2)) "
      ],
      "metadata": {
        "id": "bflISMxlaQTa",
        "colab": {
          "base_uri": "https://localhost:8080/"
        },
        "outputId": "f6c70261-cff0-40a1-872d-b5b265999ca3"
      },
      "execution_count": null,
      "outputs": [
        {
          "output_type": "stream",
          "name": "stdout",
          "text": [
            "First value: 40\n",
            "Second value: 10\n",
            "(50, 30)\n"
          ]
        }
      ]
    },
    {
      "cell_type": "code",
      "source": [
        "\"\"\"Write a function that sums the elements of a list of integers.\"\"\""
      ],
      "metadata": {
        "id": "_eyRUrSMDIDT"
      },
      "execution_count": null,
      "outputs": []
    },
    {
      "cell_type": "code",
      "source": [
        "mylist=[0,1,2,3,4]\n",
        "total=sum(mylist)\n",
        "\n",
        "print(total)"
      ],
      "metadata": {
        "colab": {
          "base_uri": "https://localhost:8080/"
        },
        "id": "ZGPd2WV11hm1",
        "outputId": "d77e3c96-3d42-4066-9630-1c596aba9d4e"
      },
      "execution_count": null,
      "outputs": [
        {
          "output_type": "stream",
          "name": "stdout",
          "text": [
            "10\n"
          ]
        }
      ]
    },
    {
      "cell_type": "code",
      "source": [
        "\"\"\"Write a function that multiplies the elements of an integer list.\"\"\""
      ],
      "metadata": {
        "id": "FwXnLVpQDQa6"
      },
      "execution_count": null,
      "outputs": []
    },
    {
      "cell_type": "code",
      "source": [
        "mylist=[1,2,3,4]\n",
        "result=1\n",
        "\n",
        "for x in mylist:\n",
        "  result=result*x\n",
        "\n",
        "print(result)"
      ],
      "metadata": {
        "colab": {
          "base_uri": "https://localhost:8080/"
        },
        "id": "jHqkArIa_pTK",
        "outputId": "e89bf4cd-9597-416a-81f2-57b4843b1a0a"
      },
      "execution_count": null,
      "outputs": [
        {
          "output_type": "stream",
          "name": "stdout",
          "text": [
            "24\n"
          ]
        }
      ]
    },
    {
      "cell_type": "code",
      "source": [
        "\"\"\"Use the two functions to sum the elements whose position is an even number (0,2,4…) and multiply the rest.\"\"\""
      ],
      "metadata": {
        "id": "MKBQSYqyCuzv"
      },
      "execution_count": null,
      "outputs": []
    },
    {
      "cell_type": "code",
      "source": [
        "total=0\n",
        "for i in range(10):\n",
        "  if i%2==0:\n",
        "    total += i\n",
        "  else:\n",
        "    if i%2!=0:\n",
        "      result=result*x\n",
        "\n",
        "print(\"the total is\", total)\n",
        "print(\"the result is\", result)\n"
      ],
      "metadata": {
        "colab": {
          "base_uri": "https://localhost:8080/"
        },
        "id": "HfeS07-dC2QZ",
        "outputId": "15a26825-8826-4378-823b-aa7030d2c757"
      },
      "execution_count": null,
      "outputs": [
        {
          "output_type": "stream",
          "name": "stdout",
          "text": [
            "the total is 20\n",
            "the result is 24576\n"
          ]
        }
      ]
    },
    {
      "cell_type": "code",
      "source": [
        "\"\"\"Write a Python program that accepts a hyphen-separated sequence of words as input and prints the words in a hyphen-separated sequence after sorting them alphabetically\"\"\""
      ],
      "metadata": {
        "id": "EzYLcspYD3jY"
      },
      "execution_count": null,
      "outputs": []
    },
    {
      "cell_type": "code",
      "source": [
        "print(\"Enter a hyphen seperated sequence of words: \")\n",
        "list=[n for n in input().split('-')]\n",
        "list.sort()\n",
        "print(\"sorted string is: \")\n",
        "print('-'.join(list))\n",
        "\n"
      ],
      "metadata": {
        "colab": {
          "base_uri": "https://localhost:8080/"
        },
        "id": "-hFOxIa-EJTj",
        "outputId": "acc72fd4-c618-4ca0-842d-0eb671697ea0"
      },
      "execution_count": null,
      "outputs": [
        {
          "output_type": "stream",
          "name": "stdout",
          "text": [
            "Enter a hyphen seperated sequence of words: \n",
            "green-red-yellow-black-white\n",
            "sorted string is: \n",
            "black-green-red-white-yellow\n"
          ]
        }
      ]
    },
    {
      "cell_type": "code",
      "source": [
        "\"\"\"Write a function that calculates and prints the value according to the given formula: Q = square root of [(2 * C * D)/H].\n",
        " Following are the fixed values of C and H: C is 50, and H is 30. D is the variable whose values should be input to your program in a comma-separated sequence.\n",
        "  Example: Let us assume the following comma-separated input sequence is given to the function: 100,150,180. \"\"\"\n"
      ],
      "metadata": {
        "id": "sk_id9f6EJ21"
      },
      "execution_count": null,
      "outputs": []
    },
    {
      "cell_type": "code",
      "source": [],
      "metadata": {
        "id": "OR2KIdHSEKG3"
      },
      "execution_count": null,
      "outputs": []
    }
  ]
}